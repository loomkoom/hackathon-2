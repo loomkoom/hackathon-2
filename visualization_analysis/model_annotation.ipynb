{
 "cells": [
  {
   "cell_type": "code",
   "execution_count": 67,
   "id": "initial_id",
   "metadata": {
    "collapsed": true,
    "ExecuteTime": {
     "end_time": "2024-02-06T12:37:00.217642500Z",
     "start_time": "2024-02-06T12:37:00.195466200Z"
    }
   },
   "outputs": [],
   "source": [
    "import pandas as pd\n",
    "import seaborn as sns\n",
    "import matplotlib.pyplot as plt\n",
    "from sklearn.cluster import KMeans\n",
    "from sklearn.preprocessing import StandardScaler\n",
    "from sklearn.metrics import adjusted_rand_score"
   ]
  },
  {
   "cell_type": "code",
   "execution_count": 57,
   "outputs": [
    {
     "name": "stdout",
     "output_type": "stream",
     "text": [
      "(12678, 122)\n"
     ]
    },
    {
     "data": {
      "text/plain": "                                                text  \\\n0  Dear World:family_man_woman_girl_boy:, you nee...   \n1  .@fordnation says releasing the projection mod...   \n2  \"Neurologists around the world say that a smal...   \n3  Coronavirus: More than one million cases confi...   \n4  This is my Gov, @henrymcmaster, today, 4/2/202...   \n\n                                           proc_text model_unanimous  Segment  \\\n0  Dear World:family_man_woman_girl_boy:, you nee...              PO        1   \n1  .@fordnation says releasing the projection mod...              PO        1   \n2  \"Neurologists around the world say that a smal...              UN        1   \n3  Coronavirus: More than one million cases confi...              UN        1   \n4  This is my Gov, @henrymcmaster, today, 4/2/202...              UN        1   \n\n   WC  Analytic  Clout  Authentic   Tone   WPS  ...  nonflu  filler  AllPunc  \\\n0  32     52.84  75.49       1.63   1.00  16.0  ...     0.0     0.0    59.38   \n1  28     96.35   3.12      48.09   1.00  28.0  ...     0.0     0.0    32.14   \n2  34     93.03  24.36       4.60  20.23  17.0  ...     0.0     0.0    20.59   \n3  34     93.03  40.06      12.44   1.85  17.0  ...     0.0     0.0    14.71   \n4  42     81.45  54.27      72.58   3.20  10.5  ...     0.0     0.0    38.10   \n\n   Period  Comma  QMark  Exclam  Apostro  OtherP  Emoji  \n0    3.13   6.25    0.0     0.0     0.00   50.00   12.5  \n1    3.57   3.57    0.0     0.0     3.57   21.43    0.0  \n2    2.94   0.00    0.0     0.0     2.94   14.71    0.0  \n3    5.88   0.00    0.0     0.0     0.00    8.82    0.0  \n4    7.14  11.90    0.0     0.0     2.38   16.67    0.0  \n\n[5 rows x 122 columns]",
      "text/html": "<div>\n<style scoped>\n    .dataframe tbody tr th:only-of-type {\n        vertical-align: middle;\n    }\n\n    .dataframe tbody tr th {\n        vertical-align: top;\n    }\n\n    .dataframe thead th {\n        text-align: right;\n    }\n</style>\n<table border=\"1\" class=\"dataframe\">\n  <thead>\n    <tr style=\"text-align: right;\">\n      <th></th>\n      <th>text</th>\n      <th>proc_text</th>\n      <th>model_unanimous</th>\n      <th>Segment</th>\n      <th>WC</th>\n      <th>Analytic</th>\n      <th>Clout</th>\n      <th>Authentic</th>\n      <th>Tone</th>\n      <th>WPS</th>\n      <th>...</th>\n      <th>nonflu</th>\n      <th>filler</th>\n      <th>AllPunc</th>\n      <th>Period</th>\n      <th>Comma</th>\n      <th>QMark</th>\n      <th>Exclam</th>\n      <th>Apostro</th>\n      <th>OtherP</th>\n      <th>Emoji</th>\n    </tr>\n  </thead>\n  <tbody>\n    <tr>\n      <th>0</th>\n      <td>Dear World:family_man_woman_girl_boy:, you nee...</td>\n      <td>Dear World:family_man_woman_girl_boy:, you nee...</td>\n      <td>PO</td>\n      <td>1</td>\n      <td>32</td>\n      <td>52.84</td>\n      <td>75.49</td>\n      <td>1.63</td>\n      <td>1.00</td>\n      <td>16.0</td>\n      <td>...</td>\n      <td>0.0</td>\n      <td>0.0</td>\n      <td>59.38</td>\n      <td>3.13</td>\n      <td>6.25</td>\n      <td>0.0</td>\n      <td>0.0</td>\n      <td>0.00</td>\n      <td>50.00</td>\n      <td>12.5</td>\n    </tr>\n    <tr>\n      <th>1</th>\n      <td>.@fordnation says releasing the projection mod...</td>\n      <td>.@fordnation says releasing the projection mod...</td>\n      <td>PO</td>\n      <td>1</td>\n      <td>28</td>\n      <td>96.35</td>\n      <td>3.12</td>\n      <td>48.09</td>\n      <td>1.00</td>\n      <td>28.0</td>\n      <td>...</td>\n      <td>0.0</td>\n      <td>0.0</td>\n      <td>32.14</td>\n      <td>3.57</td>\n      <td>3.57</td>\n      <td>0.0</td>\n      <td>0.0</td>\n      <td>3.57</td>\n      <td>21.43</td>\n      <td>0.0</td>\n    </tr>\n    <tr>\n      <th>2</th>\n      <td>\"Neurologists around the world say that a smal...</td>\n      <td>\"Neurologists around the world say that a smal...</td>\n      <td>UN</td>\n      <td>1</td>\n      <td>34</td>\n      <td>93.03</td>\n      <td>24.36</td>\n      <td>4.60</td>\n      <td>20.23</td>\n      <td>17.0</td>\n      <td>...</td>\n      <td>0.0</td>\n      <td>0.0</td>\n      <td>20.59</td>\n      <td>2.94</td>\n      <td>0.00</td>\n      <td>0.0</td>\n      <td>0.0</td>\n      <td>2.94</td>\n      <td>14.71</td>\n      <td>0.0</td>\n    </tr>\n    <tr>\n      <th>3</th>\n      <td>Coronavirus: More than one million cases confi...</td>\n      <td>Coronavirus: More than one million cases confi...</td>\n      <td>UN</td>\n      <td>1</td>\n      <td>34</td>\n      <td>93.03</td>\n      <td>40.06</td>\n      <td>12.44</td>\n      <td>1.85</td>\n      <td>17.0</td>\n      <td>...</td>\n      <td>0.0</td>\n      <td>0.0</td>\n      <td>14.71</td>\n      <td>5.88</td>\n      <td>0.00</td>\n      <td>0.0</td>\n      <td>0.0</td>\n      <td>0.00</td>\n      <td>8.82</td>\n      <td>0.0</td>\n    </tr>\n    <tr>\n      <th>4</th>\n      <td>This is my Gov, @henrymcmaster, today, 4/2/202...</td>\n      <td>This is my Gov, @henrymcmaster, today, 4/2/202...</td>\n      <td>UN</td>\n      <td>1</td>\n      <td>42</td>\n      <td>81.45</td>\n      <td>54.27</td>\n      <td>72.58</td>\n      <td>3.20</td>\n      <td>10.5</td>\n      <td>...</td>\n      <td>0.0</td>\n      <td>0.0</td>\n      <td>38.10</td>\n      <td>7.14</td>\n      <td>11.90</td>\n      <td>0.0</td>\n      <td>0.0</td>\n      <td>2.38</td>\n      <td>16.67</td>\n      <td>0.0</td>\n    </tr>\n  </tbody>\n</table>\n<p>5 rows × 122 columns</p>\n</div>"
     },
     "execution_count": 57,
     "metadata": {},
     "output_type": "execute_result"
    }
   ],
   "source": [
    "model_db = pd.read_csv('model_annotations_liwc.csv', sep=';')\n",
    "print(model_db.shape)\n",
    "model_db.head(5)"
   ],
   "metadata": {
    "collapsed": false,
    "ExecuteTime": {
     "end_time": "2024-02-06T08:00:52.974396200Z",
     "start_time": "2024-02-06T08:00:52.704170200Z"
    }
   },
   "id": "2a70dfb80e176611"
  },
  {
   "cell_type": "code",
   "execution_count": 58,
   "outputs": [
    {
     "name": "stdout",
     "output_type": "stream",
     "text": [
      "train_df datatypes:\n",
      "text                object\n",
      "proc_text           object\n",
      "model_unanimous     object\n",
      "Segment              int64\n",
      "WC                   int64\n",
      "                    ...   \n",
      "QMark              float64\n",
      "Exclam             float64\n",
      "Apostro            float64\n",
      "OtherP             float64\n",
      "Emoji              float64\n",
      "Length: 122, dtype: object\n",
      "\n",
      "\n",
      "Total null values in the DataFrame: 0\n",
      "\n",
      "Null values per column:\n",
      "text               0\n",
      "proc_text          0\n",
      "model_unanimous    0\n",
      "Segment            0\n",
      "WC                 0\n",
      "                  ..\n",
      "QMark              0\n",
      "Exclam             0\n",
      "Apostro            0\n",
      "OtherP             0\n",
      "Emoji              0\n",
      "Length: 122, dtype: int64\n"
     ]
    }
   ],
   "source": [
    "# check presence of not answered value both on train and test set\n",
    "print('train_df datatypes:')\n",
    "print(model_db.dtypes)\n",
    "total_null_values = model_db.isnull().sum().sum()\n",
    "null_values_per_column = model_db.isnull().sum()\n",
    "print('')\n",
    "print('')\n",
    "print(f\"Total null values in the DataFrame: {total_null_values}\")\n",
    "print(\"\\nNull values per column:\")\n",
    "print(null_values_per_column)"
   ],
   "metadata": {
    "collapsed": false,
    "ExecuteTime": {
     "end_time": "2024-02-06T08:00:52.998979200Z",
     "start_time": "2024-02-06T08:00:52.975401800Z"
    }
   },
   "id": "f4459dae966bd663"
  },
  {
   "cell_type": "code",
   "execution_count": 59,
   "outputs": [
    {
     "data": {
      "text/plain": "\"# here we decide to plot the density function of numerical features and then also to check the histogram of numerical features\\nnumerical_columns = model_db.select_dtypes(include=['int', 'float'])\\n\\nnum_cols = numerical_columns.shape[1]\\nnum_rows = num_cols // 2 + num_cols % 2  # 2 columns per row\\n\\nfig, axes = plt.subplots(num_rows, 2, figsize=(12, 6*num_rows))\\nfig.tight_layout(pad=3.0)\\n\\nfor i, column in enumerate(numerical_columns.columns):\\n    row_idx = i // 2\\n    col_idx = i % 2\\n    ax = axes[row_idx, col_idx]\\n\\n    sns.histplot(model_db[column], kde=True, ax=ax)\\n    ax.set_title(f'Histogram of {column}')\\n    ax.set_xlabel(column)\\n    ax.set_ylabel('Density')\\n    ax.grid('on')\\n\\nif num_cols % 2 == 1:\\n    fig.delaxes(axes[num_rows - 1, 1])\\n\\nplt.show()\""
     },
     "execution_count": 59,
     "metadata": {},
     "output_type": "execute_result"
    }
   ],
   "source": [
    "'''# here we decide to plot the density function of numerical features and then also to check the histogram of numerical features\n",
    "numerical_columns = model_db.select_dtypes(include=['int', 'float'])\n",
    "\n",
    "num_cols = numerical_columns.shape[1]\n",
    "num_rows = num_cols // 2 + num_cols % 2  # 2 columns per row\n",
    "\n",
    "fig, axes = plt.subplots(num_rows, 2, figsize=(12, 6*num_rows))\n",
    "fig.tight_layout(pad=3.0)\n",
    "\n",
    "for i, column in enumerate(numerical_columns.columns):\n",
    "    row_idx = i // 2\n",
    "    col_idx = i % 2\n",
    "    ax = axes[row_idx, col_idx]\n",
    "\n",
    "    sns.histplot(model_db[column], kde=True, ax=ax)\n",
    "    ax.set_title(f'Histogram of {column}')\n",
    "    ax.set_xlabel(column)\n",
    "    ax.set_ylabel('Density')\n",
    "    ax.grid('on')\n",
    "\n",
    "if num_cols % 2 == 1:\n",
    "    fig.delaxes(axes[num_rows - 1, 1])\n",
    "\n",
    "plt.show()'''"
   ],
   "metadata": {
    "collapsed": false,
    "ExecuteTime": {
     "end_time": "2024-02-06T08:00:53.055594300Z",
     "start_time": "2024-02-06T08:00:53.003503500Z"
    }
   },
   "id": "9b3825d0df837e86"
  },
  {
   "cell_type": "code",
   "execution_count": 59,
   "outputs": [],
   "source": [],
   "metadata": {
    "collapsed": false,
    "ExecuteTime": {
     "end_time": "2024-02-06T08:00:53.056600200Z",
     "start_time": "2024-02-06T08:00:53.009432300Z"
    }
   },
   "id": "5ccd0fc37e1ba549"
  },
  {
   "cell_type": "code",
   "execution_count": 60,
   "outputs": [
    {
     "data": {
      "text/plain": "<Figure size 500x200 with 1 Axes>",
      "image/png": "[encoded data removed]"
     },
     "metadata": {},
     "output_type": "display_data"
    }
   ],
   "source": [
    "plt.figure(figsize=(5, 2))\n",
    "sns.countplot(data=model_db, x='model_unanimous', order=model_db['model_unanimous'].value_counts().index)\n",
    "plt.xlabel('Model unanimous')\n",
    "plt.ylabel('Count')\n",
    "plt.title('Count Plot of ')\n",
    "plt.show()"
   ],
   "metadata": {
    "collapsed": false,
    "ExecuteTime": {
     "end_time": "2024-02-06T08:00:53.199187800Z",
     "start_time": "2024-02-06T08:00:53.018960100Z"
    }
   },
   "id": "44255553f6f744a5"
  },
  {
   "cell_type": "code",
   "execution_count": 60,
   "outputs": [],
   "source": [
    "\n"
   ],
   "metadata": {
    "collapsed": false,
    "ExecuteTime": {
     "end_time": "2024-02-06T08:00:53.200185600Z",
     "start_time": "2024-02-06T08:00:53.166012500Z"
    }
   },
   "id": "dcb1813db27fe87c"
  },
  {
   "cell_type": "code",
   "execution_count": 61,
   "outputs": [
    {
     "data": {
      "text/plain": "<Figure size 500x200 with 1 Axes>",
      "image/png": "[encoded data removed]"
     },
     "metadata": {},
     "output_type": "display_data"
    }
   ],
   "source": [
    "group_map = {'PO':1, 'UN': 0, 'PP': 2}\n",
    "model_db['model_unanimous'] = model_db['model_unanimous'].map(group_map)\n",
    "plt.figure(figsize=(5, 2))\n",
    "sns.countplot(data=model_db, x='model_unanimous', order=model_db['model_unanimous'].value_counts().index)\n",
    "plt.xlabel('Model unanimous')\n",
    "plt.ylabel('Count')\n",
    "plt.title('Count Plot of ')\n",
    "plt.show()"
   ],
   "metadata": {
    "collapsed": false,
    "ExecuteTime": {
     "end_time": "2024-02-06T08:00:53.331995100Z",
     "start_time": "2024-02-06T08:00:53.172091200Z"
    }
   },
   "id": "6ed7a1678ed4fa95"
  },
  {
   "cell_type": "code",
   "execution_count": 62,
   "outputs": [
    {
     "name": "stdout",
     "output_type": "stream",
     "text": [
      "model_unanimous    1.000000\n",
      "emo_anx            0.426026\n",
      "emo_neg            0.393955\n",
      "tone_neg           0.353443\n",
      "emotion            0.343179\n",
      "Affect             0.255804\n",
      "i                  0.230386\n",
      "Dic                0.203789\n",
      "auxverb            0.147690\n",
      "focuspresent       0.142434\n",
      "Linguistic         0.140516\n",
      "verb               0.126296\n",
      "function           0.120756\n",
      "Authentic          0.118970\n",
      "Apostro            0.101770\n",
      "Name: model_unanimous, dtype: float64\n"
     ]
    }
   ],
   "source": [
    "correlation_with_target = model_db.select_dtypes(include=['int', 'float']).corr()['model_unanimous'].sort_values(ascending=False)\n",
    "\n",
    "# Display correlation values\n",
    "print(correlation_with_target.head(15))"
   ],
   "metadata": {
    "collapsed": false,
    "ExecuteTime": {
     "end_time": "2024-02-06T08:00:53.946428400Z",
     "start_time": "2024-02-06T08:00:53.331995100Z"
    }
   },
   "id": "57fe4f4d52ad2c47"
  },
  {
   "cell_type": "code",
   "execution_count": 62,
   "outputs": [],
   "source": [],
   "metadata": {
    "collapsed": false,
    "ExecuteTime": {
     "end_time": "2024-02-06T08:00:53.947437800Z",
     "start_time": "2024-02-06T08:00:53.944912200Z"
    }
   },
   "id": "9f02a94a3531138f"
  },
  {
   "cell_type": "code",
   "execution_count": 63,
   "outputs": [
    {
     "name": "stdout",
     "output_type": "stream",
     "text": [
      "Tone          -0.315546\n",
      "Clout         -0.216906\n",
      "Social        -0.182949\n",
      "socrefs       -0.171557\n",
      "polite        -0.164499\n",
      "Physical      -0.153306\n",
      "leisure       -0.137400\n",
      "OtherP        -0.129325\n",
      "you           -0.126049\n",
      "BigWords      -0.121233\n",
      "Analytic      -0.109224\n",
      "shehe         -0.105455\n",
      "AllPunc       -0.101171\n",
      "socbehav      -0.100322\n",
      "affiliation   -0.094889\n",
      "Name: model_unanimous, dtype: float64\n"
     ]
    }
   ],
   "source": [
    "neg_correlation_with_target = model_db.select_dtypes(include=['int', 'float']).corr()['model_unanimous'].sort_values(ascending=True)\n",
    "\n",
    "# Display correlation values\n",
    "print(neg_correlation_with_target.head(15))"
   ],
   "metadata": {
    "collapsed": false,
    "ExecuteTime": {
     "end_time": "2024-02-06T08:00:54.374894500Z",
     "start_time": "2024-02-06T08:00:53.952480700Z"
    }
   },
   "id": "ab0b2e1c7ac1e9f4"
  },
  {
   "cell_type": "code",
   "execution_count": 64,
   "outputs": [
    {
     "data": {
      "text/plain": "                                                text  \\\n0  Dear World:family_man_woman_girl_boy:, you nee...   \n1  .@fordnation says releasing the projection mod...   \n2  \"Neurologists around the world say that a smal...   \n3  Coronavirus: More than one million cases confi...   \n4  This is my Gov, @henrymcmaster, today, 4/2/202...   \n5  The captain of a #US Navy aircraft carrier fac...   \n6  7 Tips On How To Survive A Panic Attack\\nMore ...   \n7  Is anyone else freaked out that there are over...   \n8  :red_circle: LIVE NOW !! \\n\\nDavey Crocko @dcr...   \n9  Covid19: Panic or Prosper in Sales and Marketi...   \n\n                                           proc_text  model_unanimous  \\\n0  Dear World:family_man_woman_girl_boy:, you nee...                1   \n1  .@fordnation says releasing the projection mod...                1   \n2  \"Neurologists around the world say that a smal...                0   \n3  Coronavirus: More than one million cases confi...                0   \n4  This is my Gov, @henrymcmaster, today, 4/2/202...                0   \n5  The captain of a #US Navy aircraft carrier fac...                1   \n6  7 Tips On How To Survive A Panic Attack\\nMore ...                1   \n7  Is anyone else freaked out that there are over...                1   \n8  :red_circle: LIVE NOW !! \\n\\nDavey Crocko @dcr...                1   \n9  Covid19: Panic or Prosper in Sales and Marketi...                1   \n\n   Segment  WC  Analytic  Clout  Authentic   Tone   WPS  ...  nonflu  filler  \\\n0        1  32     52.84  75.49       1.63   1.00  16.0  ...     0.0     0.0   \n1        1  28     96.35   3.12      48.09   1.00  28.0  ...     0.0     0.0   \n2        1  34     93.03  24.36       4.60  20.23  17.0  ...     0.0     0.0   \n3        1  34     93.03  40.06      12.44   1.85  17.0  ...     0.0     0.0   \n4        1  42     81.45  54.27      72.58   3.20  10.5  ...     0.0     0.0   \n5        1  40     98.55  99.00       1.00  20.23  40.0  ...     0.0     0.0   \n6        1  24     98.55  64.67      68.87   1.00  24.0  ...     0.0     0.0   \n7        1  40     32.63  26.50      78.67  20.23  10.0  ...     0.0     0.0   \n8        1  14     76.24  40.06      72.58   1.00   7.0  ...     0.0     0.0   \n9        1  35     85.07  57.11      80.49   1.98  17.5  ...     0.0     0.0   \n\n   AllPunc  Period  Comma  QMark  Exclam  Apostro  OtherP  Emoji  \n0    59.38    3.13   6.25    0.0    0.00     0.00   50.00  12.50  \n1    32.14    3.57   3.57    0.0    0.00     3.57   21.43   0.00  \n2    20.59    2.94   0.00    0.0    0.00     2.94   14.71   0.00  \n3    14.71    5.88   0.00    0.0    0.00     0.00    8.82   0.00  \n4    38.10    7.14  11.90    0.0    0.00     2.38   16.67   0.00  \n5     7.50    2.50   0.00    0.0    0.00     0.00    5.00   0.00  \n6    37.50    0.00   0.00    0.0    0.00     0.00   37.50   0.00  \n7    20.00    0.00   2.50    7.5    0.00     0.00   10.00   0.00  \n8    85.71    0.00   0.00    0.0   14.29     0.00   71.43   7.14  \n9    40.00    2.86   0.00    0.0    0.00     2.86   34.29   0.00  \n\n[10 rows x 122 columns]",
      "text/html": "<div>\n<style scoped>\n    .dataframe tbody tr th:only-of-type {\n        vertical-align: middle;\n    }\n\n    .dataframe tbody tr th {\n        vertical-align: top;\n    }\n\n    .dataframe thead th {\n        text-align: right;\n    }\n</style>\n<table border=\"1\" class=\"dataframe\">\n  <thead>\n    <tr style=\"text-align: right;\">\n      <th></th>\n      <th>text</th>\n      <th>proc_text</th>\n      <th>model_unanimous</th>\n      <th>Segment</th>\n      <th>WC</th>\n      <th>Analytic</th>\n      <th>Clout</th>\n      <th>Authentic</th>\n      <th>Tone</th>\n      <th>WPS</th>\n      <th>...</th>\n      <th>nonflu</th>\n      <th>filler</th>\n      <th>AllPunc</th>\n      <th>Period</th>\n      <th>Comma</th>\n      <th>QMark</th>\n      <th>Exclam</th>\n      <th>Apostro</th>\n      <th>OtherP</th>\n      <th>Emoji</th>\n    </tr>\n  </thead>\n  <tbody>\n    <tr>\n      <th>0</th>\n      <td>Dear World:family_man_woman_girl_boy:, you nee...</td>\n      <td>Dear World:family_man_woman_girl_boy:, you nee...</td>\n      <td>1</td>\n      <td>1</td>\n      <td>32</td>\n      <td>52.84</td>\n      <td>75.49</td>\n      <td>1.63</td>\n      <td>1.00</td>\n      <td>16.0</td>\n      <td>...</td>\n      <td>0.0</td>\n      <td>0.0</td>\n      <td>59.38</td>\n      <td>3.13</td>\n      <td>6.25</td>\n      <td>0.0</td>\n      <td>0.00</td>\n      <td>0.00</td>\n      <td>50.00</td>\n      <td>12.50</td>\n    </tr>\n    <tr>\n      <th>1</th>\n      <td>.@fordnation says releasing the projection mod...</td>\n      <td>.@fordnation says releasing the projection mod...</td>\n      <td>1</td>\n      <td>1</td>\n      <td>28</td>\n      <td>96.35</td>\n      <td>3.12</td>\n      <td>48.09</td>\n      <td>1.00</td>\n      <td>28.0</td>\n      <td>...</td>\n      <td>0.0</td>\n      <td>0.0</td>\n      <td>32.14</td>\n      <td>3.57</td>\n      <td>3.57</td>\n      <td>0.0</td>\n      <td>0.00</td>\n      <td>3.57</td>\n      <td>21.43</td>\n      <td>0.00</td>\n    </tr>\n    <tr>\n      <th>2</th>\n      <td>\"Neurologists around the world say that a smal...</td>\n      <td>\"Neurologists around the world say that a smal...</td>\n      <td>0</td>\n      <td>1</td>\n      <td>34</td>\n      <td>93.03</td>\n      <td>24.36</td>\n      <td>4.60</td>\n      <td>20.23</td>\n      <td>17.0</td>\n      <td>...</td>\n      <td>0.0</td>\n      <td>0.0</td>\n      <td>20.59</td>\n      <td>2.94</td>\n      <td>0.00</td>\n      <td>0.0</td>\n      <td>0.00</td>\n      <td>2.94</td>\n      <td>14.71</td>\n      <td>0.00</td>\n    </tr>\n    <tr>\n      <th>3</th>\n      <td>Coronavirus: More than one million cases confi...</td>\n      <td>Coronavirus: More than one million cases confi...</td>\n      <td>0</td>\n      <td>1</td>\n      <td>34</td>\n      <td>93.03</td>\n      <td>40.06</td>\n      <td>12.44</td>\n      <td>1.85</td>\n      <td>17.0</td>\n      <td>...</td>\n      <td>0.0</td>\n      <td>0.0</td>\n      <td>14.71</td>\n      <td>5.88</td>\n      <td>0.00</td>\n      <td>0.0</td>\n      <td>0.00</td>\n      <td>0.00</td>\n      <td>8.82</td>\n      <td>0.00</td>\n    </tr>\n    <tr>\n      <th>4</th>\n      <td>This is my Gov, @henrymcmaster, today, 4/2/202...</td>\n      <td>This is my Gov, @henrymcmaster, today, 4/2/202...</td>\n      <td>0</td>\n      <td>1</td>\n      <td>42</td>\n      <td>81.45</td>\n      <td>54.27</td>\n      <td>72.58</td>\n      <td>3.20</td>\n      <td>10.5</td>\n      <td>...</td>\n      <td>0.0</td>\n      <td>0.0</td>\n      <td>38.10</td>\n      <td>7.14</td>\n      <td>11.90</td>\n      <td>0.0</td>\n      <td>0.00</td>\n      <td>2.38</td>\n      <td>16.67</td>\n      <td>0.00</td>\n    </tr>\n    <tr>\n      <th>5</th>\n      <td>The captain of a #US Navy aircraft carrier fac...</td>\n      <td>The captain of a #US Navy aircraft carrier fac...</td>\n      <td>1</td>\n      <td>1</td>\n      <td>40</td>\n      <td>98.55</td>\n      <td>99.00</td>\n      <td>1.00</td>\n      <td>20.23</td>\n      <td>40.0</td>\n      <td>...</td>\n      <td>0.0</td>\n      <td>0.0</td>\n      <td>7.50</td>\n      <td>2.50</td>\n      <td>0.00</td>\n      <td>0.0</td>\n      <td>0.00</td>\n      <td>0.00</td>\n      <td>5.00</td>\n      <td>0.00</td>\n    </tr>\n    <tr>\n      <th>6</th>\n      <td>7 Tips On How To Survive A Panic Attack\\nMore ...</td>\n      <td>7 Tips On How To Survive A Panic Attack\\nMore ...</td>\n      <td>1</td>\n      <td>1</td>\n      <td>24</td>\n      <td>98.55</td>\n      <td>64.67</td>\n      <td>68.87</td>\n      <td>1.00</td>\n      <td>24.0</td>\n      <td>...</td>\n      <td>0.0</td>\n      <td>0.0</td>\n      <td>37.50</td>\n      <td>0.00</td>\n      <td>0.00</td>\n      <td>0.0</td>\n      <td>0.00</td>\n      <td>0.00</td>\n      <td>37.50</td>\n      <td>0.00</td>\n    </tr>\n    <tr>\n      <th>7</th>\n      <td>Is anyone else freaked out that there are over...</td>\n      <td>Is anyone else freaked out that there are over...</td>\n      <td>1</td>\n      <td>1</td>\n      <td>40</td>\n      <td>32.63</td>\n      <td>26.50</td>\n      <td>78.67</td>\n      <td>20.23</td>\n      <td>10.0</td>\n      <td>...</td>\n      <td>0.0</td>\n      <td>0.0</td>\n      <td>20.00</td>\n      <td>0.00</td>\n      <td>2.50</td>\n      <td>7.5</td>\n      <td>0.00</td>\n      <td>0.00</td>\n      <td>10.00</td>\n      <td>0.00</td>\n    </tr>\n    <tr>\n      <th>8</th>\n      <td>:red_circle: LIVE NOW !! \\n\\nDavey Crocko @dcr...</td>\n      <td>:red_circle: LIVE NOW !! \\n\\nDavey Crocko @dcr...</td>\n      <td>1</td>\n      <td>1</td>\n      <td>14</td>\n      <td>76.24</td>\n      <td>40.06</td>\n      <td>72.58</td>\n      <td>1.00</td>\n      <td>7.0</td>\n      <td>...</td>\n      <td>0.0</td>\n      <td>0.0</td>\n      <td>85.71</td>\n      <td>0.00</td>\n      <td>0.00</td>\n      <td>0.0</td>\n      <td>14.29</td>\n      <td>0.00</td>\n      <td>71.43</td>\n      <td>7.14</td>\n    </tr>\n    <tr>\n      <th>9</th>\n      <td>Covid19: Panic or Prosper in Sales and Marketi...</td>\n      <td>Covid19: Panic or Prosper in Sales and Marketi...</td>\n      <td>1</td>\n      <td>1</td>\n      <td>35</td>\n      <td>85.07</td>\n      <td>57.11</td>\n      <td>80.49</td>\n      <td>1.98</td>\n      <td>17.5</td>\n      <td>...</td>\n      <td>0.0</td>\n      <td>0.0</td>\n      <td>40.00</td>\n      <td>2.86</td>\n      <td>0.00</td>\n      <td>0.0</td>\n      <td>0.00</td>\n      <td>2.86</td>\n      <td>34.29</td>\n      <td>0.00</td>\n    </tr>\n  </tbody>\n</table>\n<p>10 rows × 122 columns</p>\n</div>"
     },
     "execution_count": 64,
     "metadata": {},
     "output_type": "execute_result"
    }
   ],
   "source": [
    "model_db.head(10)"
   ],
   "metadata": {
    "collapsed": false,
    "ExecuteTime": {
     "end_time": "2024-02-06T08:00:54.400749800Z",
     "start_time": "2024-02-06T08:00:54.374894500Z"
    }
   },
   "id": "6d33e9276797408c"
  },
  {
   "cell_type": "code",
   "execution_count": 66,
   "outputs": [
    {
     "name": "stdout",
     "output_type": "stream",
     "text": [
      "The columns ['text', 'proc_text', 'model_unanimous', 'Segment'] have been dropped.\n",
      "Adjusted Rand Index: 0.01176974762249499\n"
     ]
    }
   ],
   "source": [
    "columns_to_drop = ['text', 'proc_text', 'model_unanimous', 'Segment']\n",
    "columns_exist = all(col in model_db.columns for col in columns_to_drop)\n",
    "human_labels = model_db['model_unanimous']\n",
    "if columns_exist:\n",
    "    # Drop the specified columns\n",
    "    model_db_drop = model_db.drop(columns=columns_to_drop)\n",
    "    print(f\"The columns {columns_to_drop} have been dropped.\")\n",
    "else:\n",
    "    print(f\"The columns {columns_to_drop} do not exist in the DataFrame.\")\n",
    "    \n",
    "scaler = StandardScaler()\n",
    "model_db_std = scaler.fit_transform(model_db_drop)\n",
    "\n",
    "n_clusters = 3 \n",
    "\n",
    "kmeans = KMeans(n_clusters=n_clusters, init='k-means++', n_init=5000, random_state=42)\n",
    "\n",
    "kmeans.fit(model_db_std)\n",
    "cluster_labels = kmeans.labels_\n",
    "\n",
    "model_db['Predictions'] = cluster_labels\n",
    "\n",
    "ari = adjusted_rand_score(human_labels, cluster_labels)\n",
    "\n",
    "# Print the Adjusted Rand Index\n",
    "print(f\"Adjusted Rand Index: {ari}\")\n",
    "\n"
   ],
   "metadata": {
    "collapsed": false,
    "ExecuteTime": {
     "end_time": "2024-02-06T08:05:28.987849600Z",
     "start_time": "2024-02-06T08:01:22.567462300Z"
    }
   },
   "id": "41518f35eb5dbf18"
  },
  {
   "cell_type": "code",
   "execution_count": 70,
   "outputs": [],
   "source": [],
   "metadata": {
    "collapsed": false,
    "ExecuteTime": {
     "end_time": "2024-02-06T12:51:36.213168400Z",
     "start_time": "2024-02-06T12:51:36.205155100Z"
    }
   },
   "id": "d9faa6f3f34c49e1"
  },
  {
   "cell_type": "code",
   "execution_count": null,
   "outputs": [],
   "source": [],
   "metadata": {
    "collapsed": false
   },
   "id": "c482663464ce39a4"
  }
 ],
 "metadata": {
  "kernelspec": {
   "display_name": "Python 3",
   "language": "python",
   "name": "python3"
  },
  "language_info": {
   "codemirror_mode": {
    "name": "ipython",
    "version": 2
   },
   "file_extension": ".py",
   "mimetype": "text/x-python",
   "name": "python",
   "nbconvert_exporter": "python",
   "pygments_lexer": "ipython2",
   "version": "2.7.6"
  }
 },
 "nbformat": 4,
 "nbformat_minor": 5
}
