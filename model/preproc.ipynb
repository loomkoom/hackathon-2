{
 "cells": [
  {
   "cell_type": "code",
   "execution_count": 87,
   "metadata": {},
   "outputs": [],
   "source": [
    "import preprocessor as p\n",
    "from sklearn.feature_extraction.text import TfidfVectorizer\n",
    "from sklearn.preprocessing import normalize\n",
    "import pandas as pd\n",
    "from sklearn.metrics import confusion_matrix, classification_report\n",
    "import re\n",
    "import pandas as pd\n",
    "import seaborn as sns\n",
    "import matplotlib.pyplot as plt\n",
    "from sklearn.feature_extraction.text import CountVectorizer, TfidfVectorizer\n",
    "from sklearn.linear_model import LogisticRegression\n",
    "from sklearn.model_selection import GridSearchCV, train_test_split\n",
    "from sklearn.metrics import accuracy_score\n",
    "from wordcloud import WordCloud\n",
    "from sklearn.ensemble import RandomForestClassifier\n",
    "from sklearn.metrics import confusion_matrix, classification_report\n",
    "import numpy as np\n"
   ]
  },
  {
   "cell_type": "code",
   "execution_count": 88,
   "metadata": {},
   "outputs": [
    {
     "name": "stdout",
     "output_type": "stream",
     "text": [
      "                                                text  \\\n",
      "0  Fuck you china. I was 2 years clear of severe ...   \n",
      "1  Feeling so off today and I can’t tell if this ...   \n",
      "2  Good lord people we need to stop having people...   \n",
      "3  I'm telling yall, Chill the fuck out!! This Vi...   \n",
      "4  Episode of #CoronaVirus panic. Man took his gl...   \n",
      "\n",
      "                                           proc_text  \n",
      "0  fuck you china. i was 2 years clear of severe ...  \n",
      "1  feeling so off today and i can’t tell if this ...  \n",
      "2  good lord people we need to stop having people...  \n",
      "3  i'm telling yall, chill the fuck out!! this vi...  \n",
      "4  episode of #coronavirus panic. man took his gl...  \n",
      "TF-IDF feature matrix shape: (353, 1000)\n"
     ]
    }
   ],
   "source": [
    "\n",
    "\n",
    "data = pd.read_excel('data/r1_r2_annotations_liwc_h.xlsx')\n",
    "\n",
    "def preprocess_text(text):\n",
    "    # Remove mentions\n",
    "    # text = re.sub(r'@\\w+', '', text)\n",
    "    # Convert to lowercase\n",
    "    text = text.lower()\n",
    "    return text\n",
    "data = data[data['majority_vote'] != \"NoMajority\"]\n",
    "data.reset_index(drop=True, inplace=True)\n",
    "\n",
    "data['proc_text'] = data['proc_text'].apply(preprocess_text)\n",
    "print(data[['text', 'proc_text']].head())\n",
    "\n",
    "# Initialize TF-IDF Vectorizer\n",
    "vectorizer = TfidfVectorizer(stop_words='english', max_features=1000)\n",
    "\n",
    "# Fit and transform the processed text\n",
    "tfidf_matrix = vectorizer.fit_transform(data['proc_text'])\n",
    "\n",
    "# Normalize the TF-IDF features\n",
    "tfidf_normalized = normalize(tfidf_matrix, norm='l1', axis=1)\n",
    "\n",
    "print('TF-IDF feature matrix shape:', tfidf_normalized.shape)"
   ]
  },
  {
   "cell_type": "code",
   "execution_count": 89,
   "metadata": {},
   "outputs": [
    {
     "data": {
      "text/plain": [
       "<2x1000 sparse matrix of type '<class 'numpy.float64'>'\n",
       "\twith 26 stored elements in Compressed Sparse Row format>"
      ]
     },
     "metadata": {},
     "output_type": "display_data"
    },
    {
     "data": {
      "text/plain": [
       "<2x1000 sparse matrix of type '<class 'numpy.float64'>'\n",
       "\twith 22 stored elements in Compressed Sparse Row format>"
      ]
     },
     "metadata": {},
     "output_type": "display_data"
    }
   ],
   "source": [
    "X_train_tweet, X_test_tweet, y_train, y_test = train_test_split(tfidf_normalized, data['majority_vote'], test_size=0.2, random_state=42)\n",
    "display(X_train_tweet[:2],X_test_tweet[:2])"
   ]
  },
  {
   "cell_type": "code",
   "execution_count": 90,
   "metadata": {},
   "outputs": [],
   "source": [
    "def do_logistic_regression(X_tr,X_te):\n",
    "    # Setting up the logistic regression model\n",
    "    logreg = LogisticRegression(solver='liblinear', multi_class='auto')\n",
    "\n",
    "    # Defining the parameter grid for grid search\n",
    "    param_grid = {\n",
    "        'C': [0.01, 0.1, 1, 10, 100],\n",
    "        'penalty': ['l1', 'l2']\n",
    "    }\n",
    "\n",
    "    # Performing grid search with 5-fold cross-validation\n",
    "    grid_search = GridSearchCV(logreg, param_grid, cv=5, scoring='accuracy')\n",
    "    grid_search.fit(X_tr, y_train)\n",
    "\n",
    "    # Best parameters found by grid search\n",
    "    best_params = grid_search.best_params_\n",
    "    print('Best parameters found by grid search:', best_params)\n",
    "\n",
    "    # Training the model with the best parameters\n",
    "    best_model = grid_search.best_estimator_\n",
    "\n",
    "    # Predicting on both training and testing sets\n",
    "    y_pred_train = best_model.predict(X_tr)\n",
    "    y_pred_test = best_model.predict(X_te)\n",
    "\n",
    "    return y_pred_train,y_pred_test\n",
    "        "
   ]
  },
  {
   "cell_type": "code",
   "execution_count": 91,
   "metadata": {},
   "outputs": [],
   "source": [
    "labels = y_train.unique()\n",
    "\n",
    "def plot_confustion_matrix(labels_test, labels_pred,title=''):\n",
    "    acc = np.mean(labels_test == labels_pred)\n",
    "    cm = confusion_matrix(y_true=labels_test, y_pred=labels_pred)\n",
    "    sns.heatmap(cm, annot=True, xticklabels=labels, yticklabels=labels, fmt='03d', cmap='coolwarm')\n",
    "    plt.xlabel('Prediction', fontsize = 12) \n",
    "    plt.xticks(rotation=45)\n",
    "    plt.ylabel('Truth', fontsize = 12) \n",
    "    plt.title(f\"Confusion Matrix testing: {title} (acc={round(acc*100,4)}%)\", fontsize = 15)\n",
    "    return cm\n",
    "\n",
    "def evaluate(y_pred_test):\n",
    "    class_report = classification_report(y_test, y_pred_test)\n",
    "    print('Classification Report:\\n', class_report)\n",
    "\n",
    "    cm = plot_confustion_matrix(y_test, y_pred_test)"
   ]
  },
  {
   "cell_type": "code",
   "execution_count": 92,
   "metadata": {},
   "outputs": [
    {
     "name": "stdout",
     "output_type": "stream",
     "text": [
      "Best parameters found by grid search: {'C': 100, 'penalty': 'l1'}\n",
      "Classification Report:\n",
      "               precision    recall  f1-score   support\n",
      "\n",
      "          PO       0.84      0.78      0.81        27\n",
      "          PP       0.88      0.81      0.84        26\n",
      "          UN       0.82      1.00      0.90        18\n",
      "\n",
      "    accuracy                           0.85        71\n",
      "   macro avg       0.84      0.86      0.85        71\n",
      "weighted avg       0.85      0.85      0.84        71\n",
      "\n"
     ]
    },
    {
     "data": {
      "image/png": "[encoded data removed]",
      "text/plain": [
       "<Figure size 640x480 with 2 Axes>"
      ]
     },
     "metadata": {},
     "output_type": "display_data"
    }
   ],
   "source": [
    "# print(\"Using TF-IDF\")\n",
    "# print(\"tf-idf shape: \", X_train_tweet_tfid.shape)\n",
    "# X_train_full = np.concatenate((X_train,X_train_tweet.toarray()),axis=1)\n",
    "# X_test_full = np.concatenate((X_test,X_test_tweet.toarray()),axis=1)\n",
    "# print(\"full shape: \",X_train_full.shape)\n",
    "\n",
    "y_pred_tr, y_pred_te = do_logistic_regression(X_train_tweet,X_test_tweet)\n",
    "evaluate(y_pred_te)\n"
   ]
  }
 ],
 "metadata": {
  "kernelspec": {
   "display_name": "venv",
   "language": "python",
   "name": "python3"
  },
  "language_info": {
   "codemirror_mode": {
    "name": "ipython",
    "version": 3
   },
   "file_extension": ".py",
   "mimetype": "text/x-python",
   "name": "python",
   "nbconvert_exporter": "python",
   "pygments_lexer": "ipython3",
   "version": "3.11.6"
  }
 },
 "nbformat": 4,
 "nbformat_minor": 2
}
